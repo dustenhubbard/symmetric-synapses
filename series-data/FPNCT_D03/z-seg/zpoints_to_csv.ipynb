{
 "metadata": {
  "language_info": {
   "codemirror_mode": {
    "name": "ipython",
    "version": 3
   },
   "file_extension": ".py",
   "mimetype": "text/x-python",
   "name": "python",
   "nbconvert_exporter": "python",
   "pygments_lexer": "ipython3",
   "version": "3.7.9"
  },
  "orig_nbformat": 2,
  "kernelspec": {
   "name": "python3",
   "display_name": "Python 3.7.9 64-bit ('myenv': conda)"
  },
  "interpreter": {
   "hash": "201c7f33e64a4229b46116925282175c3ae039ba59b70bb65a5d14e88c45e6b5"
  }
 },
 "nbformat": 4,
 "nbformat_minor": 2,
 "cells": [
  {
   "cell_type": "code",
   "execution_count": 4,
   "metadata": {},
   "outputs": [],
   "source": [
    "import os\n",
    "\n",
    "ser_files = [f for f in os.listdir('.') if f.endswith('.ser')]\n",
    "if len(ser_files) != 1:\n",
    "    raise ValueError('There should be a single .ser file in the current directory')\n",
    "\n",
    "filename = ser_files[0]"
   ]
  },
  {
   "cell_type": "code",
   "execution_count": 5,
   "metadata": {
    "tags": []
   },
   "outputs": [],
   "source": [
    "with open(filename, 'r') as f:\n",
    "    ser = f.read()\n",
    "zcont = input(\"Enter name of z-trace that you want to output\")\n",
    "# find index range for searched z-trace and save only zpoints to a new string\n",
    "if zcont in ser:\n",
    "    a = ser.find(zcont)\n",
    "    temp_str = ser[a:]\n",
    "    b = temp_str.find('\"/>')\n",
    "    temp_str = temp_str[:b]\n",
    "    c = temp_str.find('points=\"')\n",
    "    temp_str = temp_str[c:]\n",
    "    zpoints_raw = temp_str[8:]\n",
    "else:\n",
    "    print(\"Z-trace not found\")"
   ]
  },
  {
   "cell_type": "code",
   "execution_count": 6,
   "metadata": {},
   "outputs": [],
   "source": [
    "# import numpy and pandas modules\n",
    "import numpy as np\n",
    "import pandas as pd\n",
    "\n",
    "# remove tabs, commas, and new lines from string\n",
    "zpoints_clean = zpoints_raw.replace('\\t', '').replace(',', ' ').replace('\\n', ' ')\n",
    "# split string into list of strings using space delimiter\n",
    "zpoints_split = zpoints_clean.split()\n",
    "# convert list of strings into a list containing floats for x,y points and ints for sec number\n",
    "zpoints = [int(i) if i.isdigit() else float(i) for i in zpoints_split]\n",
    "\n",
    "# convert list into an array and store in 'num' variable\n",
    "num = np.array(zpoints)\n",
    "# convert this 1-D array to 2-D array with 3 columns and an undefined (-1) number of rows\n",
    "reshaped = num.reshape(-1,3)\n",
    "# construct a table with 3 named columns for our data\n",
    "output = pd.DataFrame(reshaped, columns=['x','y','sec'])\n",
    "\n",
    "# list columns we want to rearrange in our dataframe\n",
    "cols = output.columns.tolist()\n",
    "# rearrange columns, this moves the last element to the first position, now ['sec','x','y']\n",
    "cols = cols[-1:] + cols[:-1 ]\n",
    "# this now reorders the entire dataframe\n",
    "output = output[cols]\n",
    "\n",
    "# export to csv\n",
    "output.to_csv(zcont+'_output.csv', index = None)"
   ]
  },
  {
   "cell_type": "code",
   "execution_count": null,
   "metadata": {},
   "outputs": [],
   "source": []
  }
 ]
}